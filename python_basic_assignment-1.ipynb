{
 "cells": [
  {
   "cell_type": "markdown",
   "id": "4341307b",
   "metadata": {},
   "source": [
    "1. In the below elements which of them are values or an expression? \n",
    "        eg:- values can be integer or string and expressions will be mathematical operators.\n",
    "\n",
    "            *           Expression (multiplication)\n",
    "            'hello'     Value (string)\n",
    "            -87.8 -     Value (float)\n",
    "            -           Expression (subtraction)\n",
    "            /           Expression (division)\n",
    "            +           Expression (addition)\n",
    "            6           Value (interger)\n",
    "\n",
    "\n"
   ]
  },
  {
   "cell_type": "markdown",
   "id": "119d4f88",
   "metadata": {},
   "source": [
    "2. What is the difference between string and variable?\n",
    "string:     A data value taht represents a text, written inside quotes(' ' or \" \") eg; \"string\"\n",
    "Variable:   A name(label) that refers to a value stored in memory. "
   ]
  },
  {
   "cell_type": "code",
   "execution_count": null,
   "id": "d7787470",
   "metadata": {},
   "outputs": [
    {
     "name": "stdout",
     "output_type": "stream",
     "text": [
      "string\n"
     ]
    }
   ],
   "source": [
    "#example\n",
    "a= \"string\"\n",
    "print(a)"
   ]
  },
  {
   "cell_type": "markdown",
   "id": "d528be56",
   "metadata": {},
   "source": [
    "3.Describe three different data types\n",
    "\n",
    "Integer(int)    - whole number positive, negative (without decimal)\n",
    "Float(float)    - number with decimal points\n",
    "String(str)     - sequence of characters enclosed in quotes (' ' or \" \") (Letter, word, symbols or numbers)"
   ]
  },
  {
   "cell_type": "code",
   "execution_count": 6,
   "id": "1f7e2275",
   "metadata": {},
   "outputs": [
    {
     "name": "stdout",
     "output_type": "stream",
     "text": [
      "<class 'int'>\n",
      "<class 'float'>\n",
      "<class 'str'>\n"
     ]
    }
   ],
   "source": [
    "#interger\n",
    "i = 9\n",
    "#float\n",
    "f = 9.9\n",
    "#String\n",
    "s=\"python\"\n",
    "p = \"32\"\n",
    "\n",
    "print(type(i))\n",
    "print(type(f))\n",
    "print(type(p))\n"
   ]
  },
  {
   "cell_type": "markdown",
   "id": "4b46b4ca",
   "metadata": {},
   "source": [
    "4. What is an expression made up of? What do all expressions do?\n",
    "    Expression in made up of values(numbers, string, variables) , Operators (mathematical operators), function calls. The expression always produce a value"
   ]
  },
  {
   "cell_type": "code",
   "execution_count": 7,
   "id": "6f12268c",
   "metadata": {},
   "outputs": [
    {
     "data": {
      "text/plain": [
       "6"
      ]
     },
     "execution_count": 7,
     "metadata": {},
     "output_type": "execute_result"
    }
   ],
   "source": [
    "#examples\n",
    "9+9\n",
    "\"string\"+\"interger\"+\"float\"\n",
    "range(9)\n",
    "len(\"string\")\n",
    "\n"
   ]
  },
  {
   "cell_type": "markdown",
   "id": "08e3d2d2",
   "metadata": {},
   "source": [
    "5. This assignment statements, like spam = 10. What is the difference between an expression and a statement?\n",
    "    spam = 10 is a statement\n",
    "    A statement is an instruction that can execute. It may contain expression, but its main purpose to do assigned action.\n",
    "    Expression can only produce a value"
   ]
  },
  {
   "cell_type": "markdown",
   "id": "aa6cd71f",
   "metadata": {},
   "source": [
    "6. After running the following code, what does the variable bacon contain?\n",
    "bacon = 22\n",
    "bacon + 1\n",
    "\n",
    "The variable bacon contains value 22.\n",
    "bacon + 1 is an expression and it gives a value 23"
   ]
  },
  {
   "cell_type": "code",
   "execution_count": 10,
   "id": "077b0a00",
   "metadata": {},
   "outputs": [
    {
     "name": "stdout",
     "output_type": "stream",
     "text": [
      "22\n"
     ]
    }
   ],
   "source": [
    "bacon = 22\n",
    "bacon + 1\n",
    "print(bacon)"
   ]
  },
  {
   "cell_type": "markdown",
   "id": "6250ec3c",
   "metadata": {},
   "source": [
    "7. What should the values of the following two terms be?\n",
    "'spam' + 'spamspam'     - 'spamspamspam'\n",
    "'spam' * 3              - 'spamspamspam'"
   ]
  },
  {
   "cell_type": "code",
   "execution_count": 11,
   "id": "f5452153",
   "metadata": {},
   "outputs": [
    {
     "data": {
      "text/plain": [
       "'spamspamspam'"
      ]
     },
     "execution_count": 11,
     "metadata": {},
     "output_type": "execute_result"
    }
   ],
   "source": [
    "'spam' + 'spamspam'"
   ]
  },
  {
   "cell_type": "code",
   "execution_count": 12,
   "id": "91ddd90a",
   "metadata": {},
   "outputs": [
    {
     "data": {
      "text/plain": [
       "'spamspamspam'"
      ]
     },
     "execution_count": 12,
     "metadata": {},
     "output_type": "execute_result"
    }
   ],
   "source": [
    "'spam' * 3"
   ]
  },
  {
   "cell_type": "markdown",
   "id": "34343b79",
   "metadata": {},
   "source": [
    "8. Why is eggs a valid variable name while 100 is invalid?\n",
    "    Variable must start with letter or an underscore\n",
    "    eggs    - variable (starting with letter)\n",
    "    100     - not variable (not starting with letter or an underscore)"
   ]
  },
  {
   "cell_type": "markdown",
   "id": "ef22f249",
   "metadata": {},
   "source": [
    "9. What three functions can be used to get the integer, floating-point number, or string version of a value?\n",
    "        integer: int()\n",
    "        floating-point number: float()\n",
    "        string: str()"
   ]
  },
  {
   "cell_type": "code",
   "execution_count": 14,
   "id": "42c16a6f",
   "metadata": {},
   "outputs": [
    {
     "data": {
      "text/plain": [
       "1"
      ]
     },
     "execution_count": 14,
     "metadata": {},
     "output_type": "execute_result"
    }
   ],
   "source": [
    "int(1.98)\n"
   ]
  },
  {
   "cell_type": "code",
   "execution_count": 16,
   "id": "ac9fe14a",
   "metadata": {},
   "outputs": [
    {
     "data": {
      "text/plain": [
       "9.0"
      ]
     },
     "execution_count": 16,
     "metadata": {},
     "output_type": "execute_result"
    }
   ],
   "source": [
    "float(9)\n"
   ]
  },
  {
   "cell_type": "code",
   "execution_count": 17,
   "id": "4bb639d2",
   "metadata": {},
   "outputs": [
    {
     "data": {
      "text/plain": [
       "'9.9'"
      ]
     },
     "execution_count": 17,
     "metadata": {},
     "output_type": "execute_result"
    }
   ],
   "source": [
    "str(\"9.9\")"
   ]
  },
  {
   "cell_type": "markdown",
   "id": "1143c931",
   "metadata": {},
   "source": [
    "Why does this expression cause an error? How can you fix it?\n",
    "'I have eaten ' + 99 + ' burritos.'"
   ]
  },
  {
   "cell_type": "code",
   "execution_count": 18,
   "id": "7893ce08",
   "metadata": {},
   "outputs": [
    {
     "ename": "TypeError",
     "evalue": "can only concatenate str (not \"int\") to str",
     "output_type": "error",
     "traceback": [
      "\u001b[31m---------------------------------------------------------------------------\u001b[39m",
      "\u001b[31mTypeError\u001b[39m                                 Traceback (most recent call last)",
      "\u001b[36mCell\u001b[39m\u001b[36m \u001b[39m\u001b[32mIn[18]\u001b[39m\u001b[32m, line 1\u001b[39m\n\u001b[32m----> \u001b[39m\u001b[32m1\u001b[39m \u001b[33;43m'\u001b[39;49m\u001b[33;43mI have eaten \u001b[39;49m\u001b[33;43m'\u001b[39;49m\u001b[43m \u001b[49m\u001b[43m+\u001b[49m\u001b[43m \u001b[49m\u001b[32;43m99\u001b[39;49m + \u001b[33m'\u001b[39m\u001b[33m burritos.\u001b[39m\u001b[33m'\u001b[39m\n",
      "\u001b[31mTypeError\u001b[39m: can only concatenate str (not \"int\") to str"
     ]
    }
   ],
   "source": [
    "\n",
    "'I have eaten ' + 99 + ' burritos.'"
   ]
  },
  {
   "cell_type": "markdown",
   "id": "a0d13b10",
   "metadata": {},
   "source": [
    "This expression is causing error because the expression is trying to add (operator) two different data types \n",
    "'I have eaten ' : string\n",
    "99 : integer\n",
    "burritos : string\n",
    "\n",
    "By changing the integer to string '99' the output can be arrived"
   ]
  },
  {
   "cell_type": "code",
   "execution_count": 22,
   "id": "d6ffa8c5",
   "metadata": {},
   "outputs": [
    {
     "data": {
      "text/plain": [
       "'I have eaten 99 burritos.'"
      ]
     },
     "execution_count": 22,
     "metadata": {},
     "output_type": "execute_result"
    }
   ],
   "source": [
    "'I have eaten ' + '99' + ' burritos.'"
   ]
  },
  {
   "cell_type": "code",
   "execution_count": null,
   "id": "1340e04f",
   "metadata": {},
   "outputs": [],
   "source": []
  },
  {
   "cell_type": "code",
   "execution_count": null,
   "id": "09c01a1a",
   "metadata": {},
   "outputs": [],
   "source": []
  }
 ],
 "metadata": {
  "kernelspec": {
   "display_name": "Python 3",
   "language": "python",
   "name": "python3"
  },
  "language_info": {
   "codemirror_mode": {
    "name": "ipython",
    "version": 3
   },
   "file_extension": ".py",
   "mimetype": "text/x-python",
   "name": "python",
   "nbconvert_exporter": "python",
   "pygments_lexer": "ipython3",
   "version": "3.13.3"
  }
 },
 "nbformat": 4,
 "nbformat_minor": 5
}
