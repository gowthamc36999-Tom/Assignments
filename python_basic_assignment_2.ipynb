{
 "cells": [
  {
   "cell_type": "markdown",
   "id": "d92a11a4",
   "metadata": {},
   "source": [
    "1.What are the two values of the Boolean data type? How do you write them?\n",
    "        The boolean data type has only two possible values\n",
    "        True - 1\n",
    "        False - 0"
   ]
  },
  {
   "cell_type": "code",
   "execution_count": null,
   "id": "62460e7a",
   "metadata": {},
   "outputs": [
    {
     "name": "stdout",
     "output_type": "stream",
     "text": [
      "1\n",
      "0\n"
     ]
    }
   ],
   "source": [
    "\n",
    "print(int(True))\n",
    "print(int(False))"
   ]
  },
  {
   "cell_type": "markdown",
   "id": "dd616746",
   "metadata": {},
   "source": [
    "2. What are the three different types of Boolean operators?\n",
    "\n",
    "        The three different types of boolean operators are \n",
    "        and - returns true if both the conditions are true\n",
    "        or - returns true if any one of the conditions are true\n",
    "        not - reverses the booolean value"
   ]
  },
  {
   "cell_type": "code",
   "execution_count": 5,
   "id": "8bfd3753",
   "metadata": {},
   "outputs": [
    {
     "name": "stdout",
     "output_type": "stream",
     "text": [
      "True\n",
      "False\n",
      "False\n",
      "False\n",
      "True\n",
      "True\n",
      "True\n",
      "False\n",
      "False\n",
      "True\n"
     ]
    }
   ],
   "source": [
    "print(True and True)\n",
    "print(True and False)\n",
    "print(False and True)\n",
    "print(False and False)\n",
    "\n",
    "print(True or True)\n",
    "print(True or False)\n",
    "print(False or True)\n",
    "print(False or False)\n",
    "\n",
    "print(not True)\n",
    "print(not False)"
   ]
  },
  {
   "cell_type": "markdown",
   "id": "798c42b5",
   "metadata": {},
   "source": [
    "3. Make a list of each Boolean operator's truth tables (i.e. every possible combination of Boolean values for the operator and what it evaluate ).\n",
    "and\n",
    "True and True - True\n",
    "True and False - False \n",
    "False and True - False \n",
    "False and False - False \n",
    "or\n",
    "True or True - True\n",
    "True or False - True\n",
    "False or True - True\n",
    "False or False - False \n",
    "not\n",
    "not True - False \n",
    "not False - True"
   ]
  },
  {
   "cell_type": "code",
   "execution_count": 8,
   "id": "81952f88",
   "metadata": {},
   "outputs": [
    {
     "name": "stdout",
     "output_type": "stream",
     "text": [
      "True\n",
      "False\n",
      "False\n",
      "False\n",
      "True\n",
      "True\n",
      "True\n",
      "False\n",
      "False\n",
      "True\n"
     ]
    }
   ],
   "source": [
    "print(True and True)\n",
    "print(True and False)\n",
    "print(False and True)\n",
    "print(False and False)\n",
    "\n",
    "print(True or True)\n",
    "print(True or False)\n",
    "print(False or True)\n",
    "print(False or False)\n",
    "\n",
    "print(not True)\n",
    "print(not False)"
   ]
  },
  {
   "cell_type": "markdown",
   "id": "3dcd1be9",
   "metadata": {},
   "source": [
    "4. What are the values of the following expressions?\n",
    "(5 > 4) and (3 == 5) - False\n",
    "not (5 > 4) - False\n",
    "(5 > 4) or (3 == 5) - True\n",
    "not ((5 > 4) or (3 == 5)) - False\n",
    "(True and True) and (True == False) - False\n",
    "(not False) or (not True) - True"
   ]
  },
  {
   "cell_type": "code",
   "execution_count": 7,
   "id": "8bb89e82",
   "metadata": {},
   "outputs": [
    {
     "name": "stdout",
     "output_type": "stream",
     "text": [
      "False\n",
      "False\n",
      "True\n",
      "False\n",
      "False\n",
      "True\n"
     ]
    }
   ],
   "source": [
    "print((5 > 4) and (3 == 5))\n",
    "print(not (5 > 4))\n",
    "print((5 > 4) or (3 == 5))\n",
    "print(not ((5 > 4) or (3 == 5)))\n",
    "print((True and True) and (True == False))\n",
    "print((not False) or (not True))"
   ]
  },
  {
   "cell_type": "markdown",
   "id": "eb60a6f5",
   "metadata": {},
   "source": [
    "5. What are the six comparison operators?\n",
    "        == : Equal to\n",
    "        != : not equal to\n",
    "        <  : less than\n",
    "        >  : greater than\n",
    "        <= : less than or equal to\n",
    "        >= : Greater than or equal to"
   ]
  },
  {
   "cell_type": "code",
   "execution_count": 10,
   "id": "ffb7d622",
   "metadata": {},
   "outputs": [
    {
     "name": "stdout",
     "output_type": "stream",
     "text": [
      "False\n",
      "True\n",
      "False\n",
      "True\n",
      "False\n",
      "True\n"
     ]
    }
   ],
   "source": [
    "a=5\n",
    "b=4\n",
    "print(a==b)\n",
    "print(a!=b)\n",
    "print(a<b)\n",
    "print(a>b)\n",
    "print(a<=b)\n",
    "print(a>=b)\n"
   ]
  },
  {
   "cell_type": "markdown",
   "id": "cf34c717",
   "metadata": {},
   "source": [
    "6. How do you tell the difference between the equal to and assignment operators? Describe a condition and when you would use one.\n",
    "        equal to : == (compare two values or variables to check if they are same)\n",
    "        assignment operator : = (assign a value to a variable)"
   ]
  },
  {
   "cell_type": "code",
   "execution_count": 14,
   "id": "db1eeb1d",
   "metadata": {},
   "outputs": [
    {
     "name": "stdout",
     "output_type": "stream",
     "text": [
      "5\n",
      "4\n",
      "False\n",
      "True\n"
     ]
    }
   ],
   "source": [
    "a=5 #assignment operator\n",
    "b=4 #assignment operator\n",
    "print(a)\n",
    "print(b)\n",
    "print(a==b) #equal to \n",
    "print(10==(100/10)) #equal to"
   ]
  },
  {
   "cell_type": "markdown",
   "id": "40d7d6c6",
   "metadata": {},
   "source": [
    "7. Identify the three blocks in this code:\n",
    "spam = 0\n",
    "if spam == 10:\n",
    "print('eggs')\n",
    "if spam > 5:\n",
    "print('bacon')\n",
    "else:\n",
    "print('ham')\n",
    "print('spam')\n",
    "print('spam')"
   ]
  },
  {
   "cell_type": "code",
   "execution_count": null,
   "id": "aedd24d6",
   "metadata": {},
   "outputs": [
    {
     "name": "stdout",
     "output_type": "stream",
     "text": [
      "ham\n",
      "spam\n",
      "spam\n"
     ]
    }
   ],
   "source": [
    "spam = 0\n",
    "if spam == 10: \n",
    "    print('eggs') #Block 1\n",
    "if spam > 5: \n",
    "    print('bacon') #Block 2\n",
    "else: \n",
    "    print('ham') #Block 3\n",
    "print('spam')\n",
    "print('spam')"
   ]
  },
  {
   "cell_type": "markdown",
   "id": "2e88616d",
   "metadata": {},
   "source": [
    "8. Write code that prints Hello if 1 is stored in spam, prints Howdy if 2 is stored in spam, and prints Greetings! if anything else is stored in spam."
   ]
  },
  {
   "cell_type": "code",
   "execution_count": 2,
   "id": "64d01932",
   "metadata": {},
   "outputs": [
    {
     "name": "stdout",
     "output_type": "stream",
     "text": [
      "Greetings!\n"
     ]
    }
   ],
   "source": [
    "spam = int(input(\"spam:\"))\n",
    "\n",
    "if spam ==1:\n",
    "    print(\"Hello\")\n",
    "elif spam ==2:\n",
    "    print(\"Howdy\")\n",
    "else:\n",
    "    print(\"Greetings!\")"
   ]
  },
  {
   "cell_type": "markdown",
   "id": "8ecd4827",
   "metadata": {},
   "source": [
    "9.If your programme is stuck in an endless loop, what keys you’ll press?\n",
    "        Ctrl+C in terminal/command prompt/VS code or PyCharm\n",
    "        interrupt kernel or press stop button in Jupyter Notebook"
   ]
  },
  {
   "cell_type": "markdown",
   "id": "82d20f07",
   "metadata": {},
   "source": [
    "10. How can you tell the difference between break and continue?\n",
    "break: jumps out of the loop.Exits the loop completely\n",
    "continue: skips the current iteration and goes to the next loop cycle. the loop itself doesnot stop."
   ]
  },
  {
   "cell_type": "code",
   "execution_count": null,
   "id": "a4ecfdba",
   "metadata": {},
   "outputs": [
    {
     "name": "stdout",
     "output_type": "stream",
     "text": [
      "0\n",
      "1\n",
      "2\n"
     ]
    }
   ],
   "source": [
    "a = range(9)\n",
    "for i in a:\n",
    "    if i ==3:\n",
    "        break # when i==3 the loop breaks\n",
    "    print(i)\n",
    "    "
   ]
  },
  {
   "cell_type": "code",
   "execution_count": null,
   "id": "5f3aac5e",
   "metadata": {},
   "outputs": [
    {
     "name": "stdout",
     "output_type": "stream",
     "text": [
      "0\n",
      "1\n",
      "2\n",
      "4\n",
      "5\n",
      "6\n",
      "7\n",
      "8\n"
     ]
    }
   ],
   "source": [
    "a = range(9)\n",
    "for i in a:\n",
    "    if i ==3:\n",
    "        continue # when i==3 skips the current iteration and goes to next loop cycle as you can see in the result\n",
    "    print(i)"
   ]
  },
  {
   "cell_type": "markdown",
   "id": "85e11b63",
   "metadata": {},
   "source": [
    "11. In a for loop, what is the difference between range(10), range(0, 10), and range(0, 10, 1)?\n",
    "range(10) - it starts with zero default and stops before 10 (i.e) 9. step size is 1 by default\n",
    "range(0,10) - explicitly says start at zero and stop before 10.step size is 1 by default.\n",
    "range(0,10,1) - explicitly says start at zero and stop before 10.the third number is 1 which denote the step size."
   ]
  },
  {
   "cell_type": "code",
   "execution_count": 7,
   "id": "03232636",
   "metadata": {},
   "outputs": [
    {
     "name": "stdout",
     "output_type": "stream",
     "text": [
      "i = 0\n",
      "i = 1\n",
      "i = 2\n",
      "i = 3\n",
      "i = 4\n",
      "i = 5\n",
      "i = 6\n",
      "i = 7\n",
      "i = 8\n",
      "i = 9\n",
      "j = 0\n",
      "j = 1\n",
      "j = 2\n",
      "j = 3\n",
      "j = 4\n",
      "j = 5\n",
      "j = 6\n",
      "j = 7\n",
      "j = 8\n",
      "j = 9\n",
      "k = 5\n",
      "k = 6\n",
      "k = 7\n",
      "k = 8\n",
      "k = 9\n",
      "l = 0\n",
      "l = 1\n",
      "l = 2\n",
      "l = 3\n",
      "l = 4\n",
      "l = 5\n",
      "l = 6\n",
      "l = 7\n",
      "l = 8\n",
      "l = 9\n",
      "m = 0\n",
      "m = 2\n",
      "m = 4\n",
      "m = 6\n",
      "m = 8\n"
     ]
    }
   ],
   "source": [
    "\n",
    "for i in range(10):\n",
    "    print(\"i =\",i)\n",
    "\n",
    "for j in range(0,10):\n",
    "    print(\"j =\",j)\n",
    "\n",
    "for k in range(5,10):\n",
    "    print(\"k =\",k)\n",
    "    \n",
    "for l in range(0,10,1):\n",
    "    print(\"l =\",l)\n",
    "    \n",
    "for m in range(0,10,2):\n",
    "    print(\"m =\",m)\n",
    "    \n"
   ]
  },
  {
   "cell_type": "markdown",
   "id": "89bbca37",
   "metadata": {},
   "source": [
    "12. Write a short program that prints the numbers 1 to 10 using a for loop. Then write an equivalent program that prints the numbers 1 to 10 using a while loop."
   ]
  },
  {
   "cell_type": "code",
   "execution_count": 9,
   "id": "dc29248f",
   "metadata": {},
   "outputs": [
    {
     "name": "stdout",
     "output_type": "stream",
     "text": [
      "1\n",
      "2\n",
      "3\n",
      "4\n",
      "5\n",
      "6\n",
      "7\n",
      "8\n",
      "9\n",
      "10\n"
     ]
    }
   ],
   "source": [
    "# for loop \n",
    "for i in range(1,11):\n",
    "    print(i)\n"
   ]
  },
  {
   "cell_type": "code",
   "execution_count": 10,
   "id": "fcd45c4a",
   "metadata": {},
   "outputs": [
    {
     "name": "stdout",
     "output_type": "stream",
     "text": [
      "1\n",
      "2\n",
      "3\n",
      "4\n",
      "5\n",
      "6\n",
      "7\n",
      "8\n",
      "9\n",
      "10\n"
     ]
    }
   ],
   "source": [
    "# while loop\n",
    "i =1\n",
    "while i <=10:\n",
    "    print(i)\n",
    "    i=i+1"
   ]
  },
  {
   "cell_type": "markdown",
   "id": "804cc0ad",
   "metadata": {},
   "source": [
    "13. If you had a function named bacon() inside a module named spam, how would you call it after importing spam?\n",
    "\n",
    "import spam #impo\n",
    "spam.bacon()\n",
    "\n",
    "from spam import bacon"
   ]
  },
  {
   "cell_type": "code",
   "execution_count": null,
   "id": "9c97be27",
   "metadata": {},
   "outputs": [],
   "source": [
    "import spam # imports whole module\n",
    "spam.bacon() # after importing module,function bacon can be called "
   ]
  },
  {
   "cell_type": "code",
   "execution_count": null,
   "id": "bb0af3d6",
   "metadata": {},
   "outputs": [],
   "source": [
    "from spam import bacon # this import only that function instead of whole module"
   ]
  }
 ],
 "metadata": {
  "kernelspec": {
   "display_name": "Python 3",
   "language": "python",
   "name": "python3"
  },
  "language_info": {
   "codemirror_mode": {
    "name": "ipython",
    "version": 3
   },
   "file_extension": ".py",
   "mimetype": "text/x-python",
   "name": "python",
   "nbconvert_exporter": "python",
   "pygments_lexer": "ipython3",
   "version": "3.13.0"
  }
 },
 "nbformat": 4,
 "nbformat_minor": 5
}
